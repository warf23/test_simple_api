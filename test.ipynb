{
 "cells": [
  {
   "cell_type": "code",
   "execution_count": 1,
   "metadata": {},
   "outputs": [],
   "source": [
    "from langchain_community.document_loaders import YoutubeLoader # nedd transsript \n",
    "from langchain.prompts import PromptTemplate\n",
    "from langchain.chat_models import ChatOpenAI\n",
    "\n",
    "from langchain_community.document_loaders import YoutubeLoader, UnstructuredURLLoader\n",
    "\n",
    "from langchain.chains.summarize import load_summarize_chain\n",
    "import logging \n",
    "import os "
   ]
  },
  {
   "cell_type": "code",
   "execution_count": 2,
   "metadata": {},
   "outputs": [],
   "source": [
    "logger = logging.basicConfig(level=logging.INFO)"
   ]
  },
  {
   "cell_type": "code",
   "execution_count": 3,
   "metadata": {},
   "outputs": [],
   "source": [
    "loader = YoutubeLoader.from_youtube_url(\n",
    "    \"https://www.youtube.com/watch?v=UA2hXZMGFkI&ab_channel=BrendanJowett\", add_video_info=False\n",
    ")"
   ]
  },
  {
   "cell_type": "code",
   "execution_count": 4,
   "metadata": {},
   "outputs": [
    {
     "data": {
      "text/plain": [
       "[Document(metadata={'source': 'UA2hXZMGFkI'}, page_content=\"imagine cutting down 20 hours of tedious work each week just by harnessing the power of AI that's exactly what we did for one of our clients who is drowning in manual tasks managing sales leads across Australia every new lead had to be reviewed and manually forwarded across the company in this video I'll walk through how we automated this entire process the platform we used and ai's role in transforming this workflow plus I'll break down the significant savings this brought to their business and its impact I'll also do a live walkthrough of the entire automation on make.com we initially got started with this client by providing them with an AI website chatbot tailored to enhance user engagement by offering detailed insites into the company's products and services this chapot was equipped with a recommendation system providing optimal product sizes based on individual customer preferences and requirements this thereby personalized the shopping experience for every customer following the successful integration of this system the client recognized the potential benefits of expanding their automation capabilities and expressed a keen interest in exploring additional ad news for automation however they needed guidance on possible implementations and were eager to understand how further automation could streamline their operations and enhance their customer interactions so we gained access to the client's CRM system to conduct a thorough analysis and identify any potential areas for automation during our assessment we discovered that one staff member was manually capturing and sending screenshots of emails containing lead information to each sales representative across the country this process involved handling approximately 15 leads daily perform performed entirely manually given the repetitive nature of this task which was conducted several times a day it presented quite an opportunity for Automation in our experience repetitive tasks conducted frequently online are often highly suitable for this type of automation we typically explore these opportunities by asking our clients specific questions about their daily operations in their existing setup the staff member was tasked with continuously monitoring their email inbox to capture lead information this labor intensive process involved several steps first either taking a screenshot or manually copying the lead details into the crm's messaging platform next they had to cross reference each lead's post code to determine the appropriate sales representative tag that representative in the system and then manually enter the lead into the CRM this procedure consumed approximately 2 to 3 hours over the staff member's day a significant amount of time considering this was not actually the primary job responsibility of this person they were also expected to manage other critical tasks making this manual process an inefficient use of their time automating this workflow ated quite a repetitive and timec consuming task and significantly enhanced the staff members productivity and job satisfaction allowing them to focus on more strategic activities we leveraged make.com a versatile no/ low code automation platform to construct a streamlined system tailor to the client's needs since the client utilized Gmail for communications we were able to seamlessly integrate the system with their Gmail inbox to optimize this lead management our automation was configured to scan each incoming email specifically targeting messages from three distinct lead sources pivotal to the sales process the first of these sources was an AI chapot we had previously developed for the client this chapot was designed to automatically detect potential leads during interactions and for their details directly to the client's inbox the Second Source originated from the client's website via a contact form visitors interested in the client services could fill out this form which captured essential contact information and automatically routed it to their sales SCS inbox the third Source involved leads sent by one of the client suppliers this supplier forwarded prospective customer details to the client and that just contributed to the entire pool of leads by automating the identification and processing of these leads we ensured that the client could capture and respond to potential sales opportunities efficiently and effectively reducing any manual effort at all accelerating response times we configured the make automation platform to handle three distinct automation workflows each tailored to a specific lead type this customization was very necessary because the formatting of the information in the emails veryy depending on the lead type after identifying the lead type The Next Step involved was extracting the postcode from the email this postcode was sent to an API that accurately determined the corresponding state within Australia and then based on the identified State the automation would route the email to the appropriate lead or team for further processing to optimize the processing of leads lacking postcodes we implemented an AI solution that extracted this crucial information from incoming emails if the AI failed to determine the postcode our automation workflow included a conditional trigger that automatically sent an email to the lead requesting that missing postcode a upon receiving a reply with the right postcode our automation had a separate path designed to capture and then process this information instantly and then based on Geographic criteria the system then used the newly provided post code to assign that lead to the appropriate state sales rep alongside this all lead details were fed into the client's CRM system this integration allowed all staff members to fully View and track lead activities additionally lead information was automatically populated into the crm's messaging platform ensuring seamless communication and followup across the entire sales this scenario illustrates how automation leveraging the latest advancements in AI can fully automate tasks that previously consumed considerable staff hours and such efficiencies have only really become achievable with some of the recent breakthroughs in AI now I'll go through in detail how the system works on make.com so this right here is the automation here built on make.com and as you'll see this is quite an extensive automation there's a lot going on here but what I'm going to do is cover some of the key points to really get you and give you an understanding of how this system sort of works what some of the key parts of this system are as to why they're there in the first place uh and how this sort of structure is built in the first place so the way that this system works is that we're using mac.com so if you're not familiar with mac.com I do definitely recommend going to some other videos that cover more about how mac.com works if you are looking to go ahead and build this out yourself but obviously if you've already got that skill set I'll just start diving into it and if you don't know anything about mac.com I'll try to generalize it so it's still make sense as to how the system works and then maybe you can build it another day so jumping down to the start of this automation what you'll see with our start block is a Gmail watch emails block CU what we're doing is simply just watching an inbox the whole point of the system is to watch the clients inbox for any types of New Leads that come through in their inbox and then based on that we're going to do and run several different conditions based on this and you'll see that we've got a lot going on because there are many different conditions going on in this system and that's just requiring each individual Pathways that you can see going on here so once we've watched an email we're essentially just grabbing any email that comes through and this system runs every 1 hour you can see that every hour and then processes any emails that have come through and meet our criteria so jumping into the fourth block that we have here is a router so this router goes down a few different paths based on the criteria that we set so you'll see we've got our router and we've got a few filters and each filter corresponds to a completely different lead that has come through so if we just have a look at this filter right here this is the filter equal to the chatbot inquiries that the receiving so the chatbot is set up and connected to uh my agency's emails because this is a chatbot way built for them but ultimately any lead that comes from the chatbot it gets sent into their inbox and then this system is triggered by the email that is sent in once that email is detected in the system it's then going through and then grabbing some information out of it therefore the zip code in this case so it's grabbing out postcode it's then going to an HTTP request block taking that and going to a postcode API to get the specific data from that and the reason we're getting postcode information from this is because we want to actually send that email and fold that email to a particular particular person within the company because we want to find somebody that's corresponding to that state so this system will then move on to a secondary router here which is going through a multitude of different options and these options all correlate to a different state in Australia so if you know anything about the states in Australia these are each different state that there are and these are corresponding uh essentially sales reps within the company and each one of them will get a different request based on the price code that's received so all we're doing is just sending it off to a particular one so in this case is getting sent to Queensland and this is the acronym for that and obviously if the post code is equal to it it's going to then run down this this system all these text passes are doing a grabbing out stuff like name email and and splitting all that information up so we can actually insert it as a lead within their CRM system in this case they're using Zoho for their CRM and so we're just splitting up all of that information and throwing that into their CRM system creating a task uh as well as the actual lead as well we're actually inserting the lead into the CRM system because these are all brand new leads and then we're also posting this into a messaging channel so there's a few things going on every single lead and there's also quite a few different options going on per lead so coming back to our initial router we're essentially doing the exact same thing multiple times throughout the automation where we're essentially just going down a different type of uh lead that has come through from a different person or a different uh a type of lead that's come through and then we're running down a different sort of path based on that so in this case this is now an email form so it's coming from the wix's website it's going from a contact form we're just detecting that's where it came from came from with then extracting a series of information from that email and then we're running the exact same automation to go ahead and send an email to the individual sales rep that this person uh that was currently doing the job was doing manually so they would get the email they would have a look at the post code they would then have to either look that postcode up or they would just know they would then have to find the individual the sales rep who would correspond with that they would either take a screenshot or copy and paste information and ma uh email it to them uh manually and then they'll also have to go to the CRM system add them in the CRM and then they'd also have to create a task for them in the CRM and then they have to go and put it in the message channel so there's a lot for that person to do for every single lead that this system was able to do automatically now just coming back to a part of this email form uh sort of pathway we've got a router here and this router is just detecting whether or not a postcode was found or not and so one of the ways that we're using AI in this system is by if the postcode is not easily detectable within the system for whatever reason the formatting of the email has come through differently or the postcode was entered in weirdly for some whatever reason that's happened we're able to say do a fullback system uh to the postcode so the post code is not provided let's full back onto something else let's check if it's within some different parameters whether that's maybe it's now the patent state so instead of saying postcode before it said state or in this case maybe it said location either way it comes through can't find it what we're able to do is use a chaty PT step to go ahead and say have a look at this email and tell us if you can actually find any of the states within the email and then based on on that condition if it actually detects something we can continue and if it doesn't find something then we can just discontinue the path and then in that case what we're doing is we're running this path oh right here so this path is for if we're not able to find anything we're going to be then sending a follow-up email to the individual to say we were not able to find the post code that uh you said you'd provided in that email so what we're going to do is grab their information so we're going to grab their email and then we're going to send them an email that essentially says right here we're going to say would you be a to provide us with your post code so we weren't able to find that postcode we've asked them now can you provide us with your postcode and then what we're using is a make data store and the make data store think of it just like a spreadsheet we're just recording in our spreadsheet that this particular individual didn't provide us with the post code and then we're able to record that data and then what we can do is I've actually got a separate automation connected to this which I can cover as well that essentially looks through all of the leads that hadn't provideed post codes and then at a specific time and day it will essentially check and follow up with that email so if that email comes through with this system it'll then detect it and then that's where our next uh flow comes in so this flow right here is not another lead Source but this is just for any uh reply emails and follow-up emails so if somebody has now replied that this is their email so this is something that the current person was spending a ton of time doing they would get requests or they would have website forms ad missions without postcodes um and they would get these these these contact forms with missing information whether it was post code or something else they would be spending a ton of time following up with these people asking them for this information because they couldn't get in contact with them or get the right sales rep in contact with them because they hadn't got the right information to do that so now in this case we've now got this automation that will automatically send them this email so before this person was manually asking every single person to give us their information when they obviously didn't need to do that because we can set up an automation to do so so in this case the reply email goes down in this uh section here it's just looking at the email um and and checking that it's the right one so yes we have found a reply email to our particular email that was sent out over here when then what we're doing is actually using another AI step and in this AI step we're using this to find the post code so obviously who knows what they can type in this email because it's a very free form email there's no structure when they reply to our email they could say a whole bunch of stuff who knows maybe they put their phone number in it for some reason and then it thinks that the phone number is the post code that's why we're using AI to do this and we're giving it a good prompt with gbd4 to say this these are examples of post codes extract this postcode from the email reply that has come through if the post code isn't found we're just going to send them another email for whatever reason that happens otherwise continue on and then essentially this is the exact same s sort of system uh that is on all these other areas over here and in this case it's removing that individual from the data store uh that that they had been put into and then we're just sending uh the email to them um and putting that information within the cram system so that uh it's now all set up and ready to go and that lead can be processed through the company and then this pathway that I sort of skipped over a little bit is where there suppliers send them information so in this case supplier sends them a lead and then we're able to just move that into their lead in box we're then going through having a look for all the information we need to get if it's got information uh that we we need we'll continue on otherwise we'll go ahead and send them that email to ask for the post code otherwise we'll continue on and we've got an AI step in here as well so we'll cover how that works but ultimately if we're able to get the postcode information that we need and assign that to a particular state within Australia then it's going to take that lead and then send the email off to the person who corresponds to that within the company otherwise it's going to go down a pathway where it says we weren't actually able to find anything now let's give AI a go and see if the AI can extract it from there so it's not really taking over a whole heap of this automation but it's really providing a sort of backup in the case of traditional automation we were able to pinpoint and pick out the particular state if they hadn't actually provided it in the format we wanted to so in some cases we we want to capture a postcode but maybe they'll enter either just the abbreviation of the state or May they will just enter in their City maybe sometimes they even enter in their suburb sometimes we don't know what they're going to provide us with and so in this case we're able to really capture and capitalize on any of those sort of edge cases that occur from the contact form or from leads that any different way that they get leads we can essentially have a fallback using AI that no matter what we're able to get through the right information and then send that to the appropriate people uh with no back and forth um obviously only if there's absolutely nothing that's provided for us so now this is the second automation that we're using in conjunction with the other one this is obviously a lot simpler than the previous one and all this is doing is just having a look through the data store to see if any leads have populated within there and if that's the case we're just going to be sending out some emails depending on that obviously if the leads are no longer in the data store we're not going to send uh the emails so these are just follow-up emails so in the case of what the other previous automation did it sent out an email to say provide us with your postcode and then from there if they responded to that email with their postcode that previous system would automatically work with that although what this automation does is that it will send out a secondary email so every day at 9:00 a.m. it will check that particular email to see if if there is something in the data saw we're going to send them a a follow-up email and essentially we're just going to ask them please provide us with uh your information we want to get your post code from you and then obviously if they do that we we'll update the data store once again otherwise it'll go ahead and send an email to one of the staff members to to ask them to follow up with them maybe they'll give them a call instead um and that's just a way that we can do that so I hope this gives you a good rundown of how more complex automation can work on something like me.com where we can really fully automate a particular person's current task through this system so this was an individual who was sending out emails every single day going through and adding things into the CRM system going through and sending messages to individuals to follow up on emails uh taking a lot of time out of the day and once again this wasn't even their main job this was a secondary job that they had so this is a really amazing system that was able to fully automate it we essentially turn this thing on it runs every single day um and automat all their leads for them and so they're able to save an incredible amount of time using this AI agent really because it operates on its own follows up with emails responds to emails while using AI as well so it's a really robust system that can automate a an incredible task that took a long time before and so this is really just one possible automation that can be integrated into a business but obviously the world of automation extends a lot above this and there's a lot that we can do in the space now with AI and some of the different automation tools at our disposal so now I'm just going to cover a few different ways that you can actually look into your business audit your business and figure out how you can actually automate some of your operations an initial step for businesses looking to enhance efficiency through automation or those interested in selling AI driven automations is conducting a comprehensive audit of your operations this audit should identify repetitive and timec consuming tasks that are prime candidates for automation by pinpointing these areas you can more effectively deploy AI Technologies to stream line processes reduce labor costs and increase accuracy and speed across all of your operations repetitive tasks often follow quite predictable patterns and can be significant time syncs for those involved these tasks should be your primary focus when considering any automation oportunities AI is playing a very crucial role in automating these tasks effectively especially in handing complex scenarios known as edge cases for instance AI can manage data formatting errors or interpret emails that just require nuanced responses AI really does excel in these types of situations ensuring the tasks are completed accurately and efficiently so if you are a business owner looking to harness the power of a AI to streamline your operations I invite you to schedule an AI strategy call with myself during this consultation we'll explore how our proven AI strategies can be tailored to your business needs and implemented to drive significant improvements\")]"
      ]
     },
     "execution_count": 4,
     "metadata": {},
     "output_type": "execute_result"
    }
   ],
   "source": [
    "loader.load()"
   ]
  },
  {
   "cell_type": "code",
   "execution_count": 14,
   "metadata": {},
   "outputs": [],
   "source": []
  },
  {
   "cell_type": "code",
   "execution_count": 16,
   "metadata": {},
   "outputs": [],
   "source": [
    "openai_api_key = os.getenv(\"OPENAI_API_KEY\")\n",
    "# Initialize the language model\n",
    "llm = ChatOpenAI(openai_api_key=openai_api_key, model_name=\"gpt-3.5-turbo\")"
   ]
  },
  {
   "cell_type": "code",
   "execution_count": 5,
   "metadata": {},
   "outputs": [],
   "source": [
    "docs = loader.load()\n"
   ]
  },
  {
   "cell_type": "code",
   "execution_count": 20,
   "metadata": {},
   "outputs": [],
   "source": [
    "\n",
    "# Define the prompt template\n",
    "prompt_template = \"\"\"\n",
    "Please provide a concise and informative summary of the content found at the following URL. The summary should be approximately 300 words and should highlight the main points, key arguments, and any significant conclusions or insights presented in the content. Ensure that the summary is clear and easy to understand for someone who has not accessed the original content.\n",
    "\n",
    "URL Content:\n",
    "{text}\n",
    "\"\"\"\n",
    "prompt = PromptTemplate(template=prompt_template, input_variables=[\"text\"])"
   ]
  },
  {
   "cell_type": "code",
   "execution_count": null,
   "metadata": {},
   "outputs": [],
   "source": []
  },
  {
   "cell_type": "code",
   "execution_count": 21,
   "metadata": {},
   "outputs": [],
   "source": [
    "summarize_chain = load_summarize_chain(llm=llm, chain_type=\"stuff\", prompt=prompt)"
   ]
  },
  {
   "cell_type": "code",
   "execution_count": 25,
   "metadata": {},
   "outputs": [],
   "source": [
    "output = summarize_chain.run(docs)"
   ]
  },
  {
   "cell_type": "code",
   "execution_count": 26,
   "metadata": {},
   "outputs": [
    {
     "data": {
      "text/plain": [
       "\"The content at the provided URL discusses how automation and AI can be used to streamline business operations and increase efficiency. The content highlights a case study where a client was able to save 20 hours of tedious work each week by automating the process of managing sales leads. The automation involved using an AI-powered system built on make.com to scan incoming emails, extract lead information, determine the appropriate sales representative based on location, and input the lead details into the client's CRM system.\\n\\nThe automation process was broken down into three distinct workflows tailored to different types of leads, with AI technology used to extract postcodes from emails and handle edge cases where information was missing or unclear. The system also included follow-up mechanisms to request missing information from leads and ensure all data was accurately captured and processed.\\n\\nThe content emphasizes the importance of conducting an audit of business operations to identify repetitive tasks that can be automated, with AI technology playing a crucial role in handling complex scenarios and improving efficiency. The case study serves as an example of how AI and automation can significantly reduce manual workloads, increase accuracy, and streamline processes in a business setting.\\n\\nOverall, the content provides insights into the benefits of leveraging AI and automation technologies to optimize workflows, save time, and enhance productivity in a business environment. It also offers a consultation opportunity for businesses interested in implementing AI strategies to drive improvements in their operations.\""
      ]
     },
     "execution_count": 26,
     "metadata": {},
     "output_type": "execute_result"
    }
   ],
   "source": [
    "output"
   ]
  },
  {
   "cell_type": "code",
   "execution_count": 24,
   "metadata": {},
   "outputs": [
    {
     "data": {
      "text/plain": [
       "\"The content at the provided URL discusses how AI technology was used to automate the process of managing sales leads for a client, resulting in significant time savings and increased productivity. The client was initially provided with an AI website chatbot to enhance user engagement and personalize the shopping experience. After recognizing the potential benefits of automation, the client expressed interest in exploring further automation opportunities.\\n\\nThe automation process involved using a no/low code platform called make.com to streamline lead management tasks. The system was configured to scan incoming emails from different lead sources and route them to the appropriate sales representatives based on geographical location. AI technology was also used to extract postcodes from emails and handle edge cases where postcodes were not provided in the expected format.\\n\\nThe automation system included multiple pathways for different types of leads, with conditional triggers and follow-up emails to ensure all lead information was captured and processed efficiently. The system also integrated with the client's CRM system to track lead activities and facilitate seamless communication and follow-up.\\n\\nOverall, the implementation of AI-driven automation successfully eliminated manual tasks, improved productivity, and optimized the client's lead management process. The content also emphasizes the importance of conducting a comprehensive audit of business operations to identify repetitive tasks suitable for automation and highlights the role of AI in handling complex scenarios and improving efficiency. Business owners interested in implementing AI-driven automation are encouraged to schedule a consultation to explore tailored AI strategies for their specific business needs.\""
      ]
     },
     "execution_count": 24,
     "metadata": {},
     "output_type": "execute_result"
    }
   ],
   "source": [
    "clear_output[\"output_text\"]"
   ]
  }
 ],
 "metadata": {
  "kernelspec": {
   "display_name": "Python 3",
   "language": "python",
   "name": "python3"
  },
  "language_info": {
   "codemirror_mode": {
    "name": "ipython",
    "version": 3
   },
   "file_extension": ".py",
   "mimetype": "text/x-python",
   "name": "python",
   "nbconvert_exporter": "python",
   "pygments_lexer": "ipython3",
   "version": "3.10.0"
  }
 },
 "nbformat": 4,
 "nbformat_minor": 2
}
